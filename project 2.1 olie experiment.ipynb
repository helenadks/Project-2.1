{
 "cells": [
  {
   "cell_type": "code",
   "execution_count": null,
   "id": "5c91d437-ce3f-4cf4-bd7d-297f2afef1a9",
   "metadata": {},
   "outputs": [],
   "source": []
  }
 ],
 "metadata": {
  "kernelspec": {
   "display_name": "",
   "name": ""
  },
  "language_info": {
   "name": ""
  }
 },
 "nbformat": 4,
 "nbformat_minor": 5
}
