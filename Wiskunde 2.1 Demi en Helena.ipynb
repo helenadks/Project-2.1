{
 "cells": [
  {
   "cell_type": "code",
   "execution_count": 2,
   "id": "e81fd973-c8c8-4bbc-b254-b1041c04d214",
   "metadata": {},
   "outputs": [
    {
     "name": "stdout",
     "output_type": "stream",
     "text": [
      "Gemiddelde tijd: 0.430 ± 0.008 s\n",
      "Hoogte: 0.91 ± 0.04 m\n"
     ]
    }
   ],
   "source": [
    "import numpy as np\n",
    "\n",
    "# Gegeven \n",
    "g = 9.81        # m/s^2\n",
    "sigma_g = 0.07  # m/s^2\n",
    "\n",
    "# Tijdmetingen (in seconden) \n",
    "tijden = np.array([0.42, 0.41, 0.46, 0.43, 0.43])\n",
    "\n",
    "# Gemiddelde en standaardafwijking van de metingen\n",
    "t_mean = np.mean(tijden)\n",
    "t_std = np.std(tijden, ddof=1)  # standaardafwijking van de steekproef\n",
    "t_rel_uncertainty = t_std / np.sqrt(len(tijden))  # standaardfout van het gemiddelde\n",
    "\n",
    "# Hoogte berekenen\n",
    "h = 0.5 * g * t_mean**2\n",
    "\n",
    "# Foutpropagatie\n",
    "dh_dg = 0.5 * t_mean**2\n",
    "dh_dt = g * t_mean\n",
    "\n",
    "sigma_h = np.sqrt((dh_dg * sigma_g)**2 + (dh_dt * t_rel_uncertainty)**2)\n",
    "\n",
    "# Resultaat \n",
    "print(f\"Gemiddelde tijd: {t_mean:.3f} ± {t_rel_uncertainty:.3f} s\")\n",
    "print(f\"Hoogte: {h:.2f} ± {sigma_h:.2f} m\")\n"
   ]
  },
  {
   "cell_type": "code",
   "execution_count": null,
   "id": "0c0d4f27-379b-4a7d-bba3-3bcc882b7f44",
   "metadata": {},
   "outputs": [],
   "source": []
  }
 ],
 "metadata": {
  "kernelspec": {
   "display_name": "Python [conda env:base] *",
   "language": "python",
   "name": "conda-base-py"
  },
  "language_info": {
   "codemirror_mode": {
    "name": "ipython",
    "version": 3
   },
   "file_extension": ".py",
   "mimetype": "text/x-python",
   "name": "python",
   "nbconvert_exporter": "python",
   "pygments_lexer": "ipython3",
   "version": "3.13.5"
  }
 },
 "nbformat": 4,
 "nbformat_minor": 5
}
